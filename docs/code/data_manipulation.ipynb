{
 "cells": [
  {
   "cell_type": "code",
   "execution_count": 1,
   "id": "d0ca2d1a",
   "metadata": {},
   "outputs": [],
   "source": [
    "from pyspark import SparkContext\n",
    "from pyspark.sql import SQLContext\n",
    "from pyspark.sql.functions import substring, col, when"
   ]
  },
  {
   "cell_type": "code",
   "execution_count": 2,
   "id": "c7414b17",
   "metadata": {},
   "outputs": [
    {
     "name": "stderr",
     "output_type": "stream",
     "text": [
      "/sw/pkgs/arc/spark/spark-3.2.1-bin-hadoop3.2/python/pyspark/sql/context.py:77: FutureWarning: Deprecated in 3.0.0. Use SparkSession.builder.getOrCreate() instead.\n",
      "  warnings.warn(\n"
     ]
    }
   ],
   "source": [
    "#sc = SparkContext(appName=\"umsi618f22hw7\")\n",
    "sqlc = SQLContext(sc)"
   ]
  },
  {
   "cell_type": "code",
   "execution_count": 3,
   "id": "5c545ed7",
   "metadata": {},
   "outputs": [],
   "source": [
    "tests=sqlc.read.option(\"header\",True).option(\"inferschema\",True).csv(\"/home/ruotongg/project1/tests.csv\")\n",
    "movies=sqlc.read.option(\"header\",True).option(\"inferschema\",True).csv(\"/home/ruotongg/project1/ml-25m/movies.csv\")\n",
    "ratings=sqlc.read.option(\"header\",True).option(\"inferschema\",True).csv(\"/home/ruotongg/project1/ml-25m/ratings.csv\")\n",
    "scores=sqlc.read.option(\"header\",True).option(\"inferschema\",True).csv(\"/home/ruotongg/project1/ml-25m/genome-scores.csv\")\n",
    "tags=sqlc.read.option(\"header\",True).option(\"inferschema\",True).csv(\"/home/ruotongg/project1/ml-25m/genome-tags.csv\")"
   ]
  },
  {
   "cell_type": "code",
   "execution_count": 4,
   "id": "31d6c6f0",
   "metadata": {},
   "outputs": [],
   "source": [
    "links=sqlc.read.option(\"header\",True).option(\"inferschema\",True).csv(\"/home/ruotongg/project1/ml-25m/links.csv\")"
   ]
  },
  {
   "cell_type": "code",
   "execution_count": 5,
   "id": "61f1f565",
   "metadata": {},
   "outputs": [
    {
     "name": "stdout",
     "output_type": "stream",
     "text": [
      "root\n",
      " |-- year: integer (nullable = true)\n",
      " |-- imdb: string (nullable = true)\n",
      " |-- title: string (nullable = true)\n",
      " |-- test: string (nullable = true)\n",
      " |-- clean_test: string (nullable = true)\n",
      " |-- binary: string (nullable = true)\n",
      " |-- budget: integer (nullable = true)\n",
      " |-- domgross: string (nullable = true)\n",
      " |-- intgross: string (nullable = true)\n",
      " |-- code: string (nullable = true)\n",
      " |-- budget_2013$: integer (nullable = true)\n",
      " |-- domgross_2013$: string (nullable = true)\n",
      " |-- intgross_2013$: string (nullable = true)\n",
      " |-- period code: integer (nullable = true)\n",
      " |-- decade code: integer (nullable = true)\n",
      "\n"
     ]
    }
   ],
   "source": [
    "tests.printSchema()"
   ]
  },
  {
   "cell_type": "code",
   "execution_count": 6,
   "id": "375f74c9",
   "metadata": {
    "scrolled": false
   },
   "outputs": [
    {
     "name": "stdout",
     "output_type": "stream",
     "text": [
      "root\n",
      " |-- movieId: integer (nullable = true)\n",
      " |-- title: string (nullable = true)\n",
      " |-- genres: string (nullable = true)\n",
      "\n"
     ]
    }
   ],
   "source": [
    "movies.printSchema()"
   ]
  },
  {
   "cell_type": "code",
   "execution_count": 7,
   "id": "61e7296e",
   "metadata": {
    "scrolled": true
   },
   "outputs": [
    {
     "name": "stdout",
     "output_type": "stream",
     "text": [
      "root\n",
      " |-- userId: integer (nullable = true)\n",
      " |-- movieId: integer (nullable = true)\n",
      " |-- rating: double (nullable = true)\n",
      " |-- timestamp: integer (nullable = true)\n",
      "\n"
     ]
    }
   ],
   "source": [
    "ratings.printSchema()"
   ]
  },
  {
   "cell_type": "code",
   "execution_count": 8,
   "id": "c51a8ded",
   "metadata": {
    "scrolled": true
   },
   "outputs": [
    {
     "name": "stdout",
     "output_type": "stream",
     "text": [
      "root\n",
      " |-- movieId: integer (nullable = true)\n",
      " |-- tagId: integer (nullable = true)\n",
      " |-- relevance: double (nullable = true)\n",
      "\n"
     ]
    }
   ],
   "source": [
    "scores.printSchema()"
   ]
  },
  {
   "cell_type": "code",
   "execution_count": 9,
   "id": "45658b14",
   "metadata": {
    "scrolled": true
   },
   "outputs": [
    {
     "name": "stdout",
     "output_type": "stream",
     "text": [
      "root\n",
      " |-- tagId: integer (nullable = true)\n",
      " |-- tag: string (nullable = true)\n",
      "\n"
     ]
    }
   ],
   "source": [
    "tags.printSchema()"
   ]
  },
  {
   "cell_type": "code",
   "execution_count": 10,
   "id": "544b92ab",
   "metadata": {
    "scrolled": true
   },
   "outputs": [
    {
     "name": "stdout",
     "output_type": "stream",
     "text": [
      "+-------+-----+--------------------+\n",
      "|movieId|tagId|           relevance|\n",
      "+-------+-----+--------------------+\n",
      "|      1|    1|0.028749999999999998|\n",
      "|      1|    2|0.023749999999999993|\n",
      "|      1|    3|              0.0625|\n",
      "|      1|    4| 0.07574999999999998|\n",
      "|      1|    5|             0.14075|\n",
      "|      1|    6|             0.14675|\n",
      "|      1|    7|              0.0635|\n",
      "|      1|    8|             0.20375|\n",
      "|      1|    9|               0.202|\n",
      "|      1|   10|             0.03075|\n",
      "|      1|   11|             0.58025|\n",
      "|      1|   12| 0.10249999999999998|\n",
      "|      1|   13| 0.20174999999999998|\n",
      "|      1|   14|0.007000000000000006|\n",
      "|      1|   15|0.024500000000000022|\n",
      "|      1|   16| 0.17275000000000001|\n",
      "|      1|   17|0.016500000000000015|\n",
      "|      1|   18| 0.10399999999999998|\n",
      "|      1|   19|              0.6625|\n",
      "|      1|   20| 0.30074999999999996|\n",
      "+-------+-----+--------------------+\n",
      "only showing top 20 rows\n",
      "\n"
     ]
    }
   ],
   "source": [
    "scores.show()"
   ]
  },
  {
   "cell_type": "code",
   "execution_count": 11,
   "id": "68fc6c7b",
   "metadata": {},
   "outputs": [],
   "source": [
    "tests_new=tests.withColumn('imdb', substring('imdb', 3,8)).withColumn(\"imdb\",col(\"imdb\").cast(\"integer\"))\\\n",
    "                .withColumn('binary', when(col('binary')==\"PASS\",1).otherwise(0)).withColumn(\"binary\",col(\"binary\").cast(\"integer\"))"
   ]
  },
  {
   "cell_type": "code",
   "execution_count": 12,
   "id": "00032605",
   "metadata": {},
   "outputs": [
    {
     "name": "stdout",
     "output_type": "stream",
     "text": [
      "+----+-------+--------------------+----------------+----------+------+---------+---------+---------+--------+------------+--------------+--------------+-----------+-----------+\n",
      "|year|   imdb|               title|            test|clean_test|binary|   budget| domgross| intgross|    code|budget_2013$|domgross_2013$|intgross_2013$|period code|decade code|\n",
      "+----+-------+--------------------+----------------+----------+------+---------+---------+---------+--------+------------+--------------+--------------+-----------+-----------+\n",
      "|2013|1711425|       21 &amp; Over|          notalk|    notalk|     0| 13000000| 25682380| 42195766|2013FAIL|    13000000|      25682380|      42195766|          1|          1|\n",
      "|2012|1343727|            Dredd 3D|     ok-disagree|        ok|     1| 45000000| 13414714| 40868994|2012PASS|    45658735|      13611086|      41467257|          1|          1|\n",
      "|2013|2024544|    12 Years a Slave| notalk-disagree|    notalk|     0| 20000000| 53107035|158607035|2013FAIL|    20000000|      53107035|     158607035|          1|          1|\n",
      "|2013|1272878|              2 Guns|          notalk|    notalk|     0| 61000000| 75612460|132493015|2013FAIL|    61000000|      75612460|     132493015|          1|          1|\n",
      "|2013| 453562|                  42|             men|       men|     0| 40000000| 95020213| 95020213|2013FAIL|    40000000|      95020213|      95020213|          1|          1|\n",
      "|2013|1335975|            47 Ronin|             men|       men|     0|225000000| 38362475|145803842|2013FAIL|   225000000|      38362475|     145803842|          1|          1|\n",
      "|2013|1606378|A Good Day to Die...|          notalk|    notalk|     0| 92000000| 67349198|304249198|2013FAIL|    92000000|      67349198|     304249198|          1|          1|\n",
      "|2013|2194499|          About Time|     ok-disagree|        ok|     1| 12000000| 15323921| 87324746|2013PASS|    12000000|      15323921|      87324746|          1|          1|\n",
      "|2013|1814621|           Admission|              ok|        ok|     1| 13000000| 18007317| 18007317|2013PASS|    13000000|      18007317|      18007317|          1|          1|\n",
      "|2013|1815862|         After Earth|          notalk|    notalk|     0|130000000| 60522097|244373198|2013FAIL|   130000000|      60522097|     244373198|          1|          1|\n",
      "|2013|1800241|     American Hustle|     ok-disagree|        ok|     1| 40000000|148430908|249484909|2013PASS|    40000000|     148430908|     249484909|          1|          1|\n",
      "|2013|1322269|August: Osage County|              ok|        ok|     1| 25000000| 37304874| 50304874|2013PASS|    25000000|      37304874|      50304874|          1|          1|\n",
      "|2013|1559547| Beautiful Creatures|              ok|        ok|     1| 50000000| 19452138| 55940671|2013PASS|    50000000|      19452138|      55940671|          1|          1|\n",
      "|2013|2334873|        Blue Jasmine|     ok-disagree|        ok|     1| 18000000| 33345833| 68447831|2013PASS|    18000000|      33345833|      68447831|          1|          1|\n",
      "|2013|1535109|    Captain Phillips|          notalk|    notalk|     0| 55000000|107136417|218743570|2013FAIL|    55000000|     107136417|     218743570|          1|          1|\n",
      "|2013|1939659|              Carrie|              ok|        ok|     1| 30000000| 35266619| 85001659|2013PASS|    30000000|      35266619|      85001659|          1|          1|\n",
      "|2013|1985966|Cloudy with a Cha...|nowomen-disagree|   nowomen|     0| 78000000|119640264|271725448|2013FAIL|    78000000|     119640264|     271725448|          1|          1|\n",
      "|2013|1690953|     Despicable Me 2|              ok|        ok|     1| 76000000|368065385|970766005|2013PASS|    76000000|     368065385|     970766005|          1|          1|\n",
      "|2013|2229499|             Don Jon|dubious-disagree|   dubious|     0|  5500000| 24477704| 26377704|2013FAIL|     5500000|      24477704|      26377704|          1|          1|\n",
      "|2013|1535108|             Elysium|     ok-disagree|        ok|     1|120000000| 93050117|286192091|2013PASS|   120000000|      93050117|     286192091|          1|          1|\n",
      "+----+-------+--------------------+----------------+----------+------+---------+---------+---------+--------+------------+--------------+--------------+-----------+-----------+\n",
      "only showing top 20 rows\n",
      "\n"
     ]
    }
   ],
   "source": [
    "tests_new.show()"
   ]
  },
  {
   "cell_type": "code",
   "execution_count": 13,
   "id": "05f2f379",
   "metadata": {},
   "outputs": [
    {
     "name": "stdout",
     "output_type": "stream",
     "text": [
      "root\n",
      " |-- year: integer (nullable = true)\n",
      " |-- imdb: integer (nullable = true)\n",
      " |-- title: string (nullable = true)\n",
      " |-- test: string (nullable = true)\n",
      " |-- clean_test: string (nullable = true)\n",
      " |-- binary: integer (nullable = false)\n",
      " |-- budget: integer (nullable = true)\n",
      " |-- domgross: string (nullable = true)\n",
      " |-- intgross: string (nullable = true)\n",
      " |-- code: string (nullable = true)\n",
      " |-- budget_2013$: integer (nullable = true)\n",
      " |-- domgross_2013$: string (nullable = true)\n",
      " |-- intgross_2013$: string (nullable = true)\n",
      " |-- period code: integer (nullable = true)\n",
      " |-- decade code: integer (nullable = true)\n",
      "\n"
     ]
    }
   ],
   "source": [
    "tests_new.printSchema()"
   ]
  },
  {
   "cell_type": "code",
   "execution_count": 14,
   "id": "c2dd8001",
   "metadata": {},
   "outputs": [],
   "source": [
    "tests_new.createOrReplaceTempView(\"tests\")\n",
    "movies.createOrReplaceTempView(\"movies\")\n",
    "ratings.createOrReplaceTempView(\"ratings\")\n",
    "scores.createOrReplaceTempView(\"scores\")\n",
    "tags.createOrReplaceTempView(\"tags\")\n",
    "links.createOrReplaceTempView(\"links\")"
   ]
  },
  {
   "cell_type": "code",
   "execution_count": 15,
   "id": "7025e3a9",
   "metadata": {},
   "outputs": [],
   "source": [
    "base=sqlc.sql(\"\"\"SELECT ratings.movieId, tests.title, tests.binary, AVG(ratings.rating) AS avg_rating, COUNT(ratings.rating) AS rating_num\n",
    "    FROM ratings\n",
    "    INNER JOIN (SELECT movieId, imdbId\n",
    "    FROM links) AS temp\n",
    "    ON ratings.movieId=temp.movieId \n",
    "    INNER JOIN tests\n",
    "    ON temp.imdbId=tests.imdb\n",
    "    GROUP BY ratings.movieId, tests.title, tests.binary\n",
    "    \"\"\")"
   ]
  },
  {
   "cell_type": "code",
   "execution_count": 16,
   "id": "87a1dcb2",
   "metadata": {},
   "outputs": [
    {
     "name": "stdout",
     "output_type": "stream",
     "text": [
      "+-------+--------------------+------+------------------+----------+\n",
      "|movieId|               title|binary|        avg_rating|rating_num|\n",
      "+-------+--------------------+------+------------------+----------+\n",
      "|   3897|       Almost Famous|     1|3.8336601800170964|     19887|\n",
      "|   1566|            Hercules|     1|3.4190598656950995|      6999|\n",
      "|  64957|The Curious Case ...|     0|3.5953075042317097|     10634|\n",
      "|  89745|        The Avengers|     0| 3.780246983837924|     17572|\n",
      "|  61236|   Waltz with Bashir|     0| 3.887579617834395|      1570|\n",
      "|  66171|                Push|     1|3.2139406487232574|      1449|\n",
      "|  88356|          The Smurfs|     1|2.4280575539568345|       556|\n",
      "|   2617|           The Mummy|     0|3.2055174579908914|     19103|\n",
      "|   3175|        Galaxy Quest|     0|3.6077836141619484|     14659|\n",
      "|  50685|            Waitress|     1|3.5284728213977568|      1159|\n",
      "|  58047|   Definitely, Maybe|     1|3.5668953687821614|      2332|\n",
      "|     57|Home for the holi...|     1| 3.320438282647585|      2236|\n",
      "|   2279|        Urban Legend|     1| 2.659171597633136|      2535|\n",
      "|  85401|               Super|     0| 3.302825552825553|       814|\n",
      "|  50912| Paris je t&#39;aime|     0| 3.692418772563177|      1385|\n",
      "|  31431|           Boogeyman|     0|2.1334841628959276|       442|\n",
      "|   5380|The Importance of...|     1|3.6086622245002564|      1951|\n",
      "|   6301|          Straw Dogs|     0| 3.724052718286656|      1214|\n",
      "|  58972|    Nim&#39;s Island|     1|3.0522151898734178|       316|\n",
      "|   5472|                1776|     0|3.4757505773672057|       433|\n",
      "+-------+--------------------+------+------------------+----------+\n",
      "only showing top 20 rows\n",
      "\n"
     ]
    }
   ],
   "source": [
    "base.show()"
   ]
  },
  {
   "cell_type": "code",
   "execution_count": 17,
   "id": "9776ba91",
   "metadata": {},
   "outputs": [],
   "source": [
    "base.createOrReplaceTempView(\"base\")"
   ]
  },
  {
   "cell_type": "code",
   "execution_count": 18,
   "id": "3807b30f",
   "metadata": {},
   "outputs": [],
   "source": [
    "q1_1=sqlc.sql(\"\"\"SELECT *\n",
    "    FROM base\n",
    "    ORDER BY avg_rating DESC\n",
    "    LIMIT 30\n",
    "    \"\"\")"
   ]
  },
  {
   "cell_type": "code",
   "execution_count": 19,
   "id": "f34963dc",
   "metadata": {
    "scrolled": true
   },
   "outputs": [
    {
     "name": "stdout",
     "output_type": "stream",
     "text": [
      "+-------+--------------------+------+------------------+----------+\n",
      "|movieId|               title|binary|        avg_rating|rating_num|\n",
      "+-------+--------------------+------+------------------+----------+\n",
      "|    318|The Shawshank Red...|     0| 4.413576004516335|     81482|\n",
      "|    858|       The Godfather|     0| 4.324336165187245|     52498|\n",
      "|     50|  The Usual Suspects|     0| 4.284353213163313|     55366|\n",
      "|   1221|The Godfather: Pa...|     1|4.2617585117585115|     34188|\n",
      "|    527|Schindler&#39;s List|     1| 4.247579083279535|     60411|\n",
      "|   2959|          Fight Club|     0| 4.228310618821568|     58773|\n",
      "|   1193|One Flew Over the...|     0|4.2186616007543405|     36058|\n",
      "|  44555|Das Leben Der And...|     0| 4.200392285060477|      9177|\n",
      "|    296|        Pulp Fiction|     1| 4.188912039361382|     79672|\n",
      "|   1213|          Goodfellas|     0|4.1805253650920005|     32663|\n",
      "|  58559|     The Dark Knight|     0| 4.166538211421277|     41519|\n",
      "|  79132|           Inception|     0| 4.155508420105412|     38895|\n",
      "|   2571|          The Matrix|     1| 4.154099127610975|     72674|\n",
      "|    593|The Silence of th...|     1| 4.151341616415071|     74127|\n",
      "|   4226|             Memento|     0|4.1499575191163975|     41195|\n",
      "|   1136|Monty Python and ...|     0| 4.147655276621689|     37723|\n",
      "|   1196|Star Wars: Episod...|     0| 4.144122313069856|     57361|\n",
      "|   1234|           The Sting|     0| 4.142360446570973|     15675|\n",
      "|   2329|  American History X|     0|4.1400006419103255|     31157|\n",
      "|   3000|       Mononoke-hime|     1| 4.138093788063338|     13136|\n",
      "+-------+--------------------+------+------------------+----------+\n",
      "only showing top 20 rows\n",
      "\n"
     ]
    }
   ],
   "source": [
    "q1_1.show()"
   ]
  },
  {
   "cell_type": "code",
   "execution_count": 20,
   "id": "3cbde3b9",
   "metadata": {},
   "outputs": [],
   "source": [
    "q1_1.coalesce(1).write.option(\"delimiter\", \"\\t\").option(\"header\", \"true\").csv(\"ruotongg_si618_prj1_output_1_1\")"
   ]
  },
  {
   "cell_type": "code",
   "execution_count": 21,
   "id": "e635f7d2",
   "metadata": {},
   "outputs": [],
   "source": [
    "q1_2=sqlc.sql(\"\"\"SELECT *\n",
    "    FROM base\n",
    "    ORDER BY rating_num DESC\n",
    "    LIMIT 30\n",
    "    \"\"\")"
   ]
  },
  {
   "cell_type": "code",
   "execution_count": 22,
   "id": "d6be7436",
   "metadata": {},
   "outputs": [
    {
     "name": "stdout",
     "output_type": "stream",
     "text": [
      "+-------+--------------------+------+------------------+----------+\n",
      "|movieId|               title|binary|        avg_rating|rating_num|\n",
      "+-------+--------------------+------+------------------+----------+\n",
      "|    356|        Forrest Gump|     0| 4.048011436845787|     81491|\n",
      "|    318|The Shawshank Red...|     0| 4.413576004516335|     81482|\n",
      "|    296|        Pulp Fiction|     1| 4.188912039361382|     79672|\n",
      "|    593|The Silence of th...|     1| 4.151341616415071|     74127|\n",
      "|   2571|          The Matrix|     1| 4.154099127610975|     72674|\n",
      "|    260|           Star Wars|     0| 4.120188599618726|     68717|\n",
      "|    480|       Jurassic Park|     1|3.6791749812920926|     64144|\n",
      "|    527|Schindler&#39;s List|     1| 4.247579083279535|     60411|\n",
      "|    110|          Braveheart|     0| 4.002272573668559|     59184|\n",
      "|   2959|          Fight Club|     0| 4.228310618821568|     58773|\n",
      "|    589|Terminator 2: Jud...|     0|  3.94637410899458|     57379|\n",
      "|   1196|Star Wars: Episod...|     0| 4.144122313069856|     57361|\n",
      "|      1|           Toy Story|     0| 3.893707794587238|     57309|\n",
      "|   4993|The Lord of the R...|     0| 4.091188818716808|     55736|\n",
      "|     50|  The Usual Suspects|     0| 4.284353213163313|     55366|\n",
      "|   1210|Star Wars: Episod...|     0| 3.996512919496695|     54917|\n",
      "|   1198|Raiders of the Lo...|     0| 4.123923182441701|     54675|\n",
      "|   2858|     American Beauty|     1| 4.107340423550448|     53689|\n",
      "|    858|       The Godfather|     0| 4.324336165187245|     52498|\n",
      "|   5952|The Lord of the R...|     0|4.0680511556963515|     51138|\n",
      "+-------+--------------------+------+------------------+----------+\n",
      "only showing top 20 rows\n",
      "\n"
     ]
    }
   ],
   "source": [
    "q1_2.show()"
   ]
  },
  {
   "cell_type": "code",
   "execution_count": 23,
   "id": "54bd44ba",
   "metadata": {},
   "outputs": [],
   "source": [
    "q1_2.coalesce(1).write.option(\"delimiter\", \"\\t\").option(\"header\", \"true\").csv(\"ruotongg_si618_prj1_output_1_2\")"
   ]
  },
  {
   "cell_type": "code",
   "execution_count": 24,
   "id": "676c00da",
   "metadata": {},
   "outputs": [],
   "source": [
    "q1_3=sqlc.sql(\"\"\"SELECT COUNT(binary), SUM(binary)\n",
    "    FROM base\n",
    "    \"\"\")"
   ]
  },
  {
   "cell_type": "code",
   "execution_count": 25,
   "id": "642ca2a8",
   "metadata": {},
   "outputs": [
    {
     "name": "stdout",
     "output_type": "stream",
     "text": [
      "+-------------+-----------+\n",
      "|count(binary)|sum(binary)|\n",
      "+-------------+-----------+\n",
      "|         1787|        799|\n",
      "+-------------+-----------+\n",
      "\n"
     ]
    }
   ],
   "source": [
    "q1_3.show()"
   ]
  },
  {
   "cell_type": "code",
   "execution_count": 26,
   "id": "04a43267",
   "metadata": {},
   "outputs": [
    {
     "data": {
      "text/plain": [
       "0.4471180749860101"
      ]
     },
     "execution_count": 26,
     "metadata": {},
     "output_type": "execute_result"
    }
   ],
   "source": [
    "799/1787"
   ]
  },
  {
   "cell_type": "code",
   "execution_count": 27,
   "id": "6aaf6bf0",
   "metadata": {},
   "outputs": [],
   "source": [
    "base_tag=sqlc.sql(\"\"\"SELECT AVG(base.binary) AS bechedel, temp.tag, COUNT(base.binary) AS tag_number\n",
    "    FROM base\n",
    "    INNER JOIN (SELECT scores.movieId, scores.tagId, scores.relevance, tags.tag\n",
    "    FROM scores\n",
    "    INNER JOIN tags\n",
    "    ON scores.tagId=tags.tagId\n",
    "    WHERE scores.relevance >=0.05) AS temp\n",
    "    ON base.movieId=temp.movieId\n",
    "    GROUP BY temp.tag\n",
    "    HAVING tag_number>=5\n",
    "    ORDER BY bechedel DESC\n",
    "    \"\"\")"
   ]
  },
  {
   "cell_type": "code",
   "execution_count": 28,
   "id": "8343e733",
   "metadata": {},
   "outputs": [
    {
     "name": "stdout",
     "output_type": "stream",
     "text": [
      "+------------------+--------------------+----------+\n",
      "|          bechedel|                 tag|tag_number|\n",
      "+------------------+--------------------+----------+\n",
      "|0.8571428571428571|              ballet|        21|\n",
      "|            0.8125|           almodovar|        16|\n",
      "|               0.8|      beauty pageant|       190|\n",
      "|        0.74609375|mother daughter r...|       256|\n",
      "|0.7170172084130019|             sisters|       523|\n",
      "|0.7073170731707317|         jane austen|       123|\n",
      "|          0.703125|            abortion|        64|\n",
      "|0.6985645933014354|     boarding school|       209|\n",
      "|0.6976744186046512|               opera|        43|\n",
      "|0.6896551724137931|             cooking|       116|\n",
      "|0.6882793017456359|             heroine|       401|\n",
      "|0.6674157303370787|           pregnancy|       445|\n",
      "| 0.659942363112392|             lesbian|       347|\n",
      "|0.6491228070175439|         transgender|       228|\n",
      "|0.6458333333333334|         emma watson|        48|\n",
      "|0.6427406199021207|           teenagers|       613|\n",
      "|0.6145251396648045|      cross dressing|       358|\n",
      "|0.6069246435845214|             wedding|       491|\n",
      "|0.5987124463519313|        cheerleading|       466|\n",
      "|0.5913978494623656|                glbt|       279|\n",
      "+------------------+--------------------+----------+\n",
      "only showing top 20 rows\n",
      "\n"
     ]
    }
   ],
   "source": [
    "base_tag.show()"
   ]
  },
  {
   "cell_type": "code",
   "execution_count": 29,
   "id": "86cf0353",
   "metadata": {},
   "outputs": [],
   "source": [
    "base_tag.coalesce(1).write.option(\"delimiter\", \"\\t\").option(\"header\", \"true\").csv(\"ruotongg_si618_prj1_output_2\")"
   ]
  },
  {
   "cell_type": "code",
   "execution_count": 30,
   "id": "4928f03b",
   "metadata": {},
   "outputs": [],
   "source": [
    "prefer=sqlc.sql(\"\"\"SELECT ratings.userId, AVG(base.binary*ratings.rating) AS avg_preference, STD(base.binary*ratings.rating) AS std_preference\n",
    "    FROM base\n",
    "    INNER JOIN ratings\n",
    "    ON base.movieId=ratings.movieId\n",
    "    GROUP BY ratings.userId\n",
    "    \"\"\")"
   ]
  },
  {
   "cell_type": "code",
   "execution_count": 31,
   "id": "bea89eef",
   "metadata": {
    "scrolled": true
   },
   "outputs": [
    {
     "name": "stdout",
     "output_type": "stream",
     "text": [
      "+------+------------------+------------------+\n",
      "|userId|    avg_preference|    std_preference|\n",
      "+------+------------------+------------------+\n",
      "|   833|1.2293577981651376|1.7853987391706492|\n",
      "|  1088|               0.7|1.5952515745821712|\n",
      "|  1238|0.9857142857142858| 1.835097386402808|\n",
      "|  1342|1.0078740157480315|1.7468031240027329|\n",
      "|  1580| 2.727272727272727| 2.195035721390843|\n",
      "|  1829|1.6333333333333333|1.9685733155959433|\n",
      "|  1959|1.1611111111111112| 1.904795512009566|\n",
      "|  3749|1.7241379310344827| 1.887866364144188|\n",
      "|  3794|0.8695652173913043|1.5484700951152113|\n",
      "|  3918|0.9299516908212561|1.5252475519541977|\n",
      "|  3997|0.8076923076923077|1.2332298669180541|\n",
      "|  4900| 1.090128755364807|1.6733294501884084|\n",
      "|  5803|1.0246478873239437|1.7507115724439368|\n",
      "|  6336|0.6274509803921569|1.3558876695910393|\n",
      "|  6357|              1.59| 2.131272679016749|\n",
      "|  6466| 1.411764705882353| 1.818532051829005|\n",
      "|  6658|1.0116279069767442|1.7944636156172369|\n",
      "|  7754|           0.15625|0.5148989879014481|\n",
      "|  7880| 1.032520325203252|1.7645644953330715|\n",
      "|  7982|1.3333333333333333|1.9671545363028724|\n",
      "+------+------------------+------------------+\n",
      "only showing top 20 rows\n",
      "\n"
     ]
    }
   ],
   "source": [
    "prefer.show()"
   ]
  },
  {
   "cell_type": "code",
   "execution_count": 32,
   "id": "4f063b7c",
   "metadata": {},
   "outputs": [],
   "source": [
    "prefer.coalesce(1).write.option(\"delimiter\", \"\\t\").option(\"header\", \"true\").csv(\"ruotongg_si618_prj1_output_3\")"
   ]
  }
 ],
 "metadata": {
  "kernelspec": {
   "display_name": "Python 3",
   "language": "python",
   "name": "python3"
  },
  "language_info": {
   "codemirror_mode": {
    "name": "ipython",
    "version": 3
   },
   "file_extension": ".py",
   "mimetype": "text/x-python",
   "name": "python",
   "nbconvert_exporter": "python",
   "pygments_lexer": "ipython3",
   "version": "3.10.4"
  }
 },
 "nbformat": 4,
 "nbformat_minor": 5
}
